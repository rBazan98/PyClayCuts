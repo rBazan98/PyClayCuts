{
 "cells": [
  {
   "cell_type": "code",
   "execution_count": 7,
   "metadata": {},
   "outputs": [
    {
     "ename": "AttributeError",
     "evalue": "'complex' object has no attribute 'normal'",
     "output_type": "error",
     "traceback": [
      "\u001b[1;31m---------------------------------------------------------------------------\u001b[0m",
      "\u001b[1;31mAttributeError\u001b[0m                            Traceback (most recent call last)",
      "Cell \u001b[1;32mIn[7], line 30\u001b[0m\n\u001b[0;32m     28\u001b[0m \u001b[39mfor\u001b[39;00m path \u001b[39min\u001b[39;00m paths:\n\u001b[0;32m     29\u001b[0m     \u001b[39mfor\u001b[39;00m distances \u001b[39min\u001b[39;00m offset_distances:\n\u001b[1;32m---> 30\u001b[0m         offset_paths\u001b[39m.\u001b[39mappend(offset_curve(path, distances))\n\u001b[0;32m     32\u001b[0m \u001b[39m# Let's take a look\u001b[39;00m\n\u001b[0;32m     33\u001b[0m wsvg(paths \u001b[39m+\u001b[39m offset_paths, \u001b[39m'\u001b[39m\u001b[39mg\u001b[39m\u001b[39m'\u001b[39m\u001b[39m*\u001b[39m\u001b[39mlen\u001b[39m(paths) \u001b[39m+\u001b[39m \u001b[39m'\u001b[39m\u001b[39mr\u001b[39m\u001b[39m'\u001b[39m\u001b[39m*\u001b[39m\u001b[39mlen\u001b[39m(offset_paths), filename\u001b[39m=\u001b[39m\u001b[39m'\u001b[39m\u001b[39moffset_curves.svg\u001b[39m\u001b[39m'\u001b[39m)\n",
      "Cell \u001b[1;32mIn[7], line 12\u001b[0m, in \u001b[0;36moffset_curve\u001b[1;34m(path, offset_distance, steps)\u001b[0m\n\u001b[0;32m     10\u001b[0m \u001b[39mfor\u001b[39;00m k \u001b[39min\u001b[39;00m \u001b[39mrange\u001b[39m(steps):\n\u001b[0;32m     11\u001b[0m     t \u001b[39m=\u001b[39m k \u001b[39m/\u001b[39m steps\n\u001b[1;32m---> 12\u001b[0m     offset_vector \u001b[39m=\u001b[39m offset_distance \u001b[39m*\u001b[39m seg\u001b[39m.\u001b[39;49mnormal(t)\n\u001b[0;32m     13\u001b[0m     nl \u001b[39m=\u001b[39m Line(seg\u001b[39m.\u001b[39mpoint(t), seg\u001b[39m.\u001b[39mpoint(t) \u001b[39m+\u001b[39m offset_vector)\n\u001b[0;32m     14\u001b[0m     nls\u001b[39m.\u001b[39mappend(nl)\n",
      "\u001b[1;31mAttributeError\u001b[0m: 'complex' object has no attribute 'normal'"
     ]
    }
   ],
   "source": [
    "from svgpathtools import parse_path, Line, Path, wsvg\n",
    "from svgpathtools import Path, Line, QuadraticBezier, CubicBezier, Arc\n",
    "\n",
    "def offset_curve(path, offset_distance, steps=1000):\n",
    "    \"\"\"Takes in a Path object, `path`, and a distance,\n",
    "    `offset_distance`, and outputs an piecewise-linear approximation \n",
    "    of the 'parallel' offset curve.\"\"\"\n",
    "    nls = []\n",
    "    for seg in path:\n",
    "        for k in range(steps):\n",
    "            t = k / steps\n",
    "            offset_vector = offset_distance * seg.normal(t)\n",
    "            nl = Line(seg.point(t), seg.point(t) + offset_vector)\n",
    "            nls.append(nl)\n",
    "    connect_the_dots = [Line(nls[k].end, nls[k+1].end) for k in range(len(nls)-1)]\n",
    "    if path.isclosed():\n",
    "        connect_the_dots.append(Line(nls[-1].end, nls[0].end))\n",
    "    offset_path = Path(*connect_the_dots)\n",
    "    return offset_path\n",
    "\n",
    "# Examples:\n",
    "path1 = Path(CubicBezier(300+100j, 100+100j, 200+200j, 200+300j))  # A cubic beginning at (300, 100) and ending at (200, 300)\n",
    "path2 = Line(200+300j, 250+350j)  # A line beginning at (200, 300) and ending at (250, 350)\n",
    "paths = [path1, path2]\n",
    "\n",
    "offset_distances = [10*k for k in range(1,51)]\n",
    "offset_paths = []\n",
    "for path in paths:\n",
    "    for distances in offset_distances:\n",
    "        offset_paths.append(offset_curve(path, distances))\n",
    "\n",
    "# Let's take a look\n",
    "wsvg(paths + offset_paths, 'g'*len(paths) + 'r'*len(offset_paths), filename='offset_curves.svg')"
   ]
  },
  {
   "cell_type": "code",
   "execution_count": 3,
   "metadata": {},
   "outputs": [],
   "source": [
    "!code offset_curves.svg"
   ]
  },
  {
   "cell_type": "code",
   "execution_count": null,
   "metadata": {},
   "outputs": [],
   "source": []
  }
 ],
 "metadata": {
  "kernelspec": {
   "display_name": "venv",
   "language": "python",
   "name": "python3"
  },
  "language_info": {
   "codemirror_mode": {
    "name": "ipython",
    "version": 3
   },
   "file_extension": ".py",
   "mimetype": "text/x-python",
   "name": "python",
   "nbconvert_exporter": "python",
   "pygments_lexer": "ipython3",
   "version": "3.11.3"
  },
  "orig_nbformat": 4
 },
 "nbformat": 4,
 "nbformat_minor": 2
}
