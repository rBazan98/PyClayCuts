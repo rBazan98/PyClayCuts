{
 "cells": [
  {
   "cell_type": "markdown",
   "metadata": {},
   "source": [
    "Offset path generator"
   ]
  },
  {
   "cell_type": "code",
   "execution_count": 17,
   "metadata": {},
   "outputs": [
    {
     "name": "stdout",
     "output_type": "stream",
     "text": [
      "(CubicBezier(start=(230+200j), control1=(100+100j), control2=(200+200j), end=(200+300j)), Line(start=(200+300j), end=(150+300j)))\n",
      "(Line(start=(200+300j), end=(150+300j)), CubicBezier(start=(230+200j), control1=(100+100j), control2=(200+200j), end=(200+300j)))\n"
     ]
    }
   ],
   "source": [
    "from svgpathtools import Path, Line, QuadraticBezier, CubicBezier, Arc\n",
    "from svgpathtools import parse_path, Line, Path, wsvg\n",
    "\n",
    "# Sol here https://github.com/mathandy/svgpathtools/blob/fcb648b9bb9591d925876d3b51649fa175b40524/svgpathtools/path.py#L710\n",
    "def find_intersection(path):\n",
    "    intersections = []\n",
    "    for ids, seg in enumerate(path[:-2]): #-2 because next comment\n",
    "        for ido, other_seg in enumerate(path[ids+2:]): #+2 to ignore the inmediate segment \n",
    "            if seg.intersect(other_seg):\n",
    "                return ids, ids + ido + 1\n",
    "\n",
    "\n",
    "def offset_curve(path, offset_distance, steps=1000):\n",
    "    \"\"\"Takes in a Path object, `path`, and a distance,\n",
    "    `offset_distance`, and outputs an piecewise-linear approximation \n",
    "    of the 'parallel' offset curve.\"\"\"\n",
    "    offset_segments = []\n",
    "\n",
    "    segments = [(path[i], path[i + 1]) for i in range(len(path) - 1)]\n",
    "    segments.append((path[-1],path[0]))\n",
    "    print(*segments,sep='\\n')\n",
    "\n",
    "    for idx, (seg, next_seg) in enumerate(segments):\n",
    "        normal_delta = abs(seg.unit_tangent(1)-next_seg.unit_tangent(0))\n",
    "\n",
    "        nls = []\n",
    "        for k in range(steps):\n",
    "            t = k / steps\n",
    "            offset_vector = offset_distance * seg.normal(t)\n",
    "            nl = Line(seg.point(t), seg.point(t) + offset_vector)\n",
    "            nls.append(nl)\n",
    "        connect_the_dots = [Line(nls[k].end, nls[k+1].end) for k in range(len(nls)-1)]\n",
    "        \n",
    "        if find_intersection(connect_the_dots):\n",
    "            cut_start,cut_end = find_intersection(connect_the_dots)\n",
    "            connect_the_dots[cut_start:cut_end+1] = [Line(connect_the_dots[cut_start-1].end, connect_the_dots[cut_end+2].start)]\n",
    "\n",
    "        offset_segments.extend(connect_the_dots)\n",
    "\n",
    "        # fix pointy joints #implement determination of large_arc and sweep values  \n",
    "        if normal_delta > 0.1 and (idx!=len(segments)-1 or path.isclosed()):\n",
    "            start = seg.end + offset_distance * seg.normal(1)\n",
    "            end = next_seg.start + offset_distance * next_seg.normal(0)\n",
    "            radius = offset_distance + offset_distance*1j\n",
    "            rotation = 0\n",
    "            large_arc = False\n",
    "            sweep = True\n",
    "            arc = Arc(start=start, radius=radius, rotation=rotation, large_arc=large_arc, sweep=sweep, end=end)\n",
    "            offset_segments.extend([Line(offset_segments[-1].end,arc.start),arc])\n",
    "\n",
    "    if path.isclosed():\n",
    "        connect_the_dots.append(Line(nls[-1].end, nls[0].end))\n",
    "    \n",
    "    offset_path = Path(*offset_segments)\n",
    "    return offset_path\n",
    "\n",
    "# Examples:\n",
    "seg1 = CubicBezier(230+200j, 100+100j, 200+200j, 200+300j)  # A cubic beginning at (300, 100) and ending at (200, 300)\n",
    "seg2 = Line(200+300j, 150+300j)  # A line beginning at (200, 300) and ending at (250, 350)\n",
    "paths = Path(seg1,seg2)\n",
    "\n",
    "distance = 10\n",
    "offset_paths = offset_curve(paths, distance)\n",
    "\n",
    "# Let's take a look\n",
    "wsvg([paths, offset_paths], 'g' + 'r', filename='offset_curves.svg')"
   ]
  },
  {
   "cell_type": "code",
   "execution_count": 1,
   "metadata": {},
   "outputs": [],
   "source": [
    "!code offset_curves.svg"
   ]
  },
  {
   "cell_type": "markdown",
   "metadata": {},
   "source": [
    "Generate Character Paths"
   ]
  },
  {
   "cell_type": "code",
   "execution_count": 16,
   "metadata": {},
   "outputs": [
    {
     "data": {
      "text/plain": [
       "(0.9782376485029375-0.2074875973436566j)"
      ]
     },
     "execution_count": 16,
     "metadata": {},
     "output_type": "execute_result"
    }
   ],
   "source": []
  }
 ],
 "metadata": {
  "kernelspec": {
   "display_name": "venv",
   "language": "python",
   "name": "python3"
  },
  "language_info": {
   "codemirror_mode": {
    "name": "ipython",
    "version": 3
   },
   "file_extension": ".py",
   "mimetype": "text/x-python",
   "name": "python",
   "nbconvert_exporter": "python",
   "pygments_lexer": "ipython3",
   "version": "3.11.3"
  },
  "orig_nbformat": 4
 },
 "nbformat": 4,
 "nbformat_minor": 2
}
