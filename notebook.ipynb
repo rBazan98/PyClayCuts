{
 "cells": [
  {
   "cell_type": "markdown",
   "metadata": {},
   "source": [
    "Offset path generator"
   ]
  },
  {
   "cell_type": "code",
   "execution_count": 55,
   "metadata": {},
   "outputs": [
    {
     "name": "stdout",
     "output_type": "stream",
     "text": [
      "[(172, 512)]\n",
      "[]\n",
      "[]\n"
     ]
    }
   ],
   "source": [
    "from svgpathtools import Path, Line, QuadraticBezier, CubicBezier, Arc\n",
    "from svgpathtools import parse_path, Line, Path, wsvg\n",
    "\n",
    "# Sol here https://github.com/mathandy/svgpathtools/blob/fcb648b9bb9591d925876d3b51649fa175b40524/svgpathtools/path.py#L710\n",
    "def find_intersection(path):\n",
    "    intersections = []\n",
    "    for ids, seg in enumerate(path[:-2]): #-2 because next comment\n",
    "        for ido, other_seg in enumerate(path[ids+2:]): #+2 to ignore the inmediate segment \n",
    "            if seg.intersect(other_seg) and ids != 0 and ids+ido+1!=len(path)-2:\n",
    "                intersections.append((ids, ids + ido + 1))\n",
    "\n",
    "    print(intersections)            \n",
    "    return intersections\n",
    "\n",
    "def del_intersections(path, intersections):\n",
    "    sorted_indexes = sorted(intersections, key=lambda x: x[0], reverse=True)\n",
    "    for start, end in sorted_indexes:\n",
    "        path[start:end+1] = [Line(path[start-1].end,path[end+2].start)]\n",
    "\n",
    "\n",
    "def offset_curve(path, offset_distance, steps=1000):\n",
    "    \"\"\"Takes in a Path object, `path`, and a distance,\n",
    "    `offset_distance`, and outputs an piecewise-linear approximation \n",
    "    of the 'parallel' offset curve.\"\"\"\n",
    "    offset_segments = []\n",
    "\n",
    "    segments = [(path[i], path[i + 1]) for i in range(len(path) - 1)]\n",
    "    segments.append((path[-1],path[0]))\n",
    "    # print(*segments,sep='\\nxd\\n')\n",
    "\n",
    "    for idx, (seg, next_seg) in enumerate(segments):\n",
    "        normal_delta = abs(seg.unit_tangent(1)-next_seg.unit_tangent(0))\n",
    "\n",
    "        nls = []\n",
    "        for k in range(steps):\n",
    "            t = k / steps\n",
    "            offset_vector = offset_distance * seg.normal(t)\n",
    "            nl = Line(seg.point(t), seg.point(t) + offset_vector)\n",
    "            nls.append(nl)\n",
    "        connect_the_dots = [Line(nls[k].end, nls[k+1].end) for k in range(len(nls)-1)]\n",
    "        \n",
    "        intersections = find_intersection(connect_the_dots)\n",
    "        del_intersections(connect_the_dots,intersections)\n",
    "        \n",
    "        # if intersections:\n",
    "        #     for intersection in intersections:\n",
    "        #         cut_start,cut_end = intersection\n",
    "        #         connect_the_dots[cut_start:cut_end+1] = [Line(connect_the_dots[cut_start-1].end, connect_the_dots[cut_end+2].start)]\n",
    "\n",
    "        offset_segments.extend(connect_the_dots)\n",
    "\n",
    "        # fix pointy joints #implement determination of large_arc and sweep values  \n",
    "        if normal_delta > 0.1 and (idx!=len(segments)-1 or path.isclosed()):\n",
    "            start = seg.end + offset_distance * seg.normal(1)\n",
    "            end = next_seg.start + offset_distance * next_seg.normal(0)\n",
    "            radius = offset_distance + offset_distance*1j\n",
    "            rotation = 0\n",
    "            large_arc = False\n",
    "            sweep = False\n",
    "            arc = Arc(start=start, radius=radius, rotation=rotation, large_arc=large_arc, sweep=sweep, end=end)\n",
    "            offset_segments.extend([Line(offset_segments[-1].end,arc.start),arc])\n",
    "\n",
    "    intersections = find_intersection(offset_segments)\n",
    "    del_intersections(offset_segments,intersections)\n",
    "    # print(intersections)\n",
    "        # intersections = find_intersection(offset_segments)\n",
    "        # if intersections:\n",
    "        #     for intersection in intersections:\n",
    "        #         cut_start,cut_end = intersection\n",
    "        #         offset_segments[cut_start:cut_end+1] = [Line(offset_segments[cut_start-1].end, offset_segments[cut_end+2].start)]\n",
    "\n",
    "\n",
    "    if path.isclosed():\n",
    "        connect_the_dots.append(Line(nls[-1].end, nls[0].end))\n",
    "    \n",
    "    offset_path = Path(*offset_segments)\n",
    "    return offset_path\n",
    "\n",
    "# Examples:\n",
    "seg1 = CubicBezier(230+200j, 100+100j, 200+200j, 200+300j)  # A cubic beginning at (300, 100) and ending at (200, 300)\n",
    "seg2 = Line(200+300j, 150+300j)  # A line beginning at (200, 300) and ending at (250, 350)\n",
    "paths = Path(seg1,seg2)\n",
    "\n",
    "distance = 10\n",
    "offset_paths = offset_curve(paths, distance)\n",
    "\n",
    "# Let's take a look\n",
    "wsvg([paths, offset_paths], 'g' + 'r', filename='offset_curves.svg')\n",
    "beep()"
   ]
  },
  {
   "cell_type": "code",
   "execution_count": null,
   "metadata": {},
   "outputs": [],
   "source": [
    "!code offset_curves.svg"
   ]
  },
  {
   "cell_type": "markdown",
   "metadata": {},
   "source": [
    "Generate Character Paths"
   ]
  },
  {
   "cell_type": "code",
   "execution_count": null,
   "metadata": {},
   "outputs": [],
   "source": [
    "import matplotlib.pyplot as plt\n",
    "from svgpathtools import svg2paths, svg2paths2, wsvg\n",
    "\n",
    "def char2paths(char): # Implement character with multiple path, maybe ussing parsing\n",
    "\n",
    "    plt.figure(figsize=(4, 4))\n",
    "    plt.text(0.5, 0.5, char[0], fontsize=200, ha='center', va='center')\n",
    "    plt.axis('off')\n",
    "    filename='.matplot'\n",
    "    plt.savefig(filename, format='svg')\n",
    "    plt.close()\n",
    "    \n",
    "    paths, _, _ = svg2paths2(filename)\n",
    "    paths.pop(0)\n",
    "    wsvg(paths, filename='svgtools.svg')\n",
    "    \n",
    "    return paths"
   ]
  },
  {
   "cell_type": "code",
   "execution_count": 58,
   "metadata": {},
   "outputs": [
    {
     "name": "stdout",
     "output_type": "stream",
     "text": [
      "[]\n",
      "[]\n",
      "[]\n",
      "[]\n",
      "[]\n",
      "[]\n",
      "[]\n",
      "[]\n",
      "[]\n",
      "[]\n",
      "[]\n",
      "[]\n",
      "[]\n",
      "[]\n",
      "[]\n",
      "[]\n",
      "[]\n",
      "[]\n",
      "[]\n",
      "[]\n",
      "[]\n",
      "[]\n",
      "[]\n"
     ]
    },
    {
     "ename": "AssertionError",
     "evalue": "",
     "output_type": "error",
     "traceback": [
      "\u001b[1;31m---------------------------------------------------------------------------\u001b[0m",
      "\u001b[1;31mAssertionError\u001b[0m                            Traceback (most recent call last)",
      "Cell \u001b[1;32mIn[58], line 4\u001b[0m\n\u001b[0;32m      2\u001b[0m distance \u001b[39m=\u001b[39m \u001b[39m-\u001b[39m\u001b[39m100\u001b[39m\n\u001b[0;32m      3\u001b[0m \u001b[39m# print(*paths)\u001b[39;00m\n\u001b[1;32m----> 4\u001b[0m offset_paths \u001b[39m=\u001b[39m offset_curve(\u001b[39m*\u001b[39;49mpaths, distance)\n\u001b[0;32m      5\u001b[0m \u001b[39m# Let's take a look\u001b[39;00m\n\u001b[0;32m      6\u001b[0m wsvg([\u001b[39m*\u001b[39mpaths, offset_paths], \u001b[39m'\u001b[39m\u001b[39mg\u001b[39m\u001b[39m'\u001b[39m \u001b[39m+\u001b[39m \u001b[39m'\u001b[39m\u001b[39mr\u001b[39m\u001b[39m'\u001b[39m, filename\u001b[39m=\u001b[39m\u001b[39m'\u001b[39m\u001b[39moffset_curves.svg\u001b[39m\u001b[39m'\u001b[39m)\n",
      "Cell \u001b[1;32mIn[55], line 53\u001b[0m, in \u001b[0;36moffset_curve\u001b[1;34m(path, offset_distance, steps)\u001b[0m\n\u001b[0;32m     50\u001b[0m offset_segments\u001b[39m.\u001b[39mextend(connect_the_dots)\n\u001b[0;32m     52\u001b[0m \u001b[39m# fix pointy joints #implement determination of large_arc and sweep values  \u001b[39;00m\n\u001b[1;32m---> 53\u001b[0m \u001b[39mif\u001b[39;00m normal_delta \u001b[39m>\u001b[39m \u001b[39m0.1\u001b[39m \u001b[39mand\u001b[39;00m (idx\u001b[39m!=\u001b[39m\u001b[39mlen\u001b[39m(segments)\u001b[39m-\u001b[39m\u001b[39m1\u001b[39m \u001b[39mor\u001b[39;00m path\u001b[39m.\u001b[39;49misclosed()):\n\u001b[0;32m     54\u001b[0m     start \u001b[39m=\u001b[39m seg\u001b[39m.\u001b[39mend \u001b[39m+\u001b[39m offset_distance \u001b[39m*\u001b[39m seg\u001b[39m.\u001b[39mnormal(\u001b[39m1\u001b[39m)\n\u001b[0;32m     55\u001b[0m     end \u001b[39m=\u001b[39m next_seg\u001b[39m.\u001b[39mstart \u001b[39m+\u001b[39m offset_distance \u001b[39m*\u001b[39m next_seg\u001b[39m.\u001b[39mnormal(\u001b[39m0\u001b[39m)\n",
      "File \u001b[1;32mc:\\Users\\ronal_xtu9aky\\Python\\molds_3d\\venv\\Lib\\site-packages\\svgpathtools\\path.py:2641\u001b[0m, in \u001b[0;36mPath.isclosed\u001b[1;34m(self)\u001b[0m\n\u001b[0;32m   2639\u001b[0m \u001b[39m\u001b[39m\u001b[39m\"\"\"This function determines if a connected path is closed.\"\"\"\u001b[39;00m\n\u001b[0;32m   2640\u001b[0m \u001b[39massert\u001b[39;00m \u001b[39mlen\u001b[39m(\u001b[39mself\u001b[39m) \u001b[39m!=\u001b[39m \u001b[39m0\u001b[39m\n\u001b[1;32m-> 2641\u001b[0m \u001b[39massert\u001b[39;00m \u001b[39mself\u001b[39m\u001b[39m.\u001b[39miscontinuous()\n\u001b[0;32m   2642\u001b[0m \u001b[39mreturn\u001b[39;00m \u001b[39mself\u001b[39m\u001b[39m.\u001b[39mstart \u001b[39m==\u001b[39m \u001b[39mself\u001b[39m\u001b[39m.\u001b[39mend\n",
      "\u001b[1;31mAssertionError\u001b[0m: "
     ]
    }
   ],
   "source": [
    "paths = char2paths('R')\n",
    "distance = -100\n",
    "# print(*paths)\n",
    "offset_paths = offset_curve(*paths, distance)\n",
    "# Let's take a look\n",
    "wsvg([*paths, offset_paths], 'g' + 'r', filename='offset_curves.svg')\n",
    "beep()"
   ]
  },
  {
   "cell_type": "code",
   "execution_count": null,
   "metadata": {},
   "outputs": [],
   "source": [
    "!code svgtools.svg"
   ]
  },
  {
   "cell_type": "code",
   "execution_count": null,
   "metadata": {},
   "outputs": [],
   "source": [
    "!code offset_curves.svg"
   ]
  },
  {
   "cell_type": "code",
   "execution_count": 32,
   "metadata": {},
   "outputs": [
    {
     "data": {
      "text/plain": [
       "(0, 11009)"
      ]
     },
     "execution_count": 32,
     "metadata": {},
     "output_type": "execute_result"
    }
   ],
   "source": [
    "(0,len(offset_paths)-2)"
   ]
  },
  {
   "cell_type": "code",
   "execution_count": null,
   "metadata": {},
   "outputs": [],
   "source": [
    "def eliminar_elementos(lista, intervalos):\n",
    "    sorted_intervals = sorted(intervalos, key=lambda x: x[0], reverse=True)\n",
    "    for start, end in sorted_intervals:\n",
    "        del lista[start:end+1]\n",
    "\n",
    "# Ejemplo de uso:\n",
    "mi_lista = [i for i in range(100)]  # Lista de 0 a 99\n",
    "intervalos_a_eliminar = [(10, 20), (30, 40), (50, 60)]\n",
    "eliminar_elementos(mi_lista, intervalos_a_eliminar)\n",
    "print(mi_lista)"
   ]
  },
  {
   "cell_type": "code",
   "execution_count": null,
   "metadata": {},
   "outputs": [],
   "source": [
    "import os\n",
    "os.system(\"printf '\\a'\")"
   ]
  },
  {
   "cell_type": "code",
   "execution_count": null,
   "metadata": {},
   "outputs": [],
   "source": [
    "import numpy as np\n",
    "import simpleaudio as sa\n",
    "\n",
    "def generate_tone(frequency, duration, sample_rate=44100):\n",
    "    # Generar el tiempo en segundos para el arreglo de muestras\n",
    "    t = np.linspace(0, duration, int(sample_rate * duration), False)\n",
    "\n",
    "    # Generar el tono utilizando la función sinusoidal\n",
    "    tone = np.sin(frequency * 2 * np.pi * t)\n",
    "\n",
    "    # Asegurarse de que el arreglo esté en el rango [-1, 1]\n",
    "    tone *= 0.5\n",
    "\n",
    "    return tone\n",
    "\n",
    "def beep(sample_rate=44100):\n",
    "    # Convertir los valores de la señal a int16 (16-bit signed integer)\n",
    "    frequency = 440  # Frecuencia en Hz (A4 en el piano)\n",
    "    duration = 0.08   # Duración en segundos\n",
    "    tone = generate_tone(frequency, duration)\n",
    "\n",
    "    samples = (tone * 32767).astype(np.int16)\n",
    "\n",
    "    # Crear el objeto de audio para reproducir la señal\n",
    "    playback_obj = sa.play_buffer(samples, num_channels=1, bytes_per_sample=2, sample_rate=sample_rate)\n",
    "\n",
    "    # Esperar hasta que termine la reproducción\n",
    "    playback_obj.wait_done()"
   ]
  },
  {
   "cell_type": "code",
   "execution_count": 47,
   "metadata": {},
   "outputs": [
    {
     "name": "stdout",
     "output_type": "stream",
     "text": [
      "[0, 1, 9, 5, 30, 10]\n"
     ]
    }
   ],
   "source": [
    "def merge_intervals(elements, intervals):\n",
    "    # Ordenar las tuplas de intervalos en orden descendente según su segundo elemento\n",
    "    intervals.sort(key=lambda x: x[1], reverse=True)\n",
    "\n",
    "    for interval in intervals:\n",
    "        start, end = interval\n",
    "        elements[start:end+1] = [sum(elements[start:end+1])]\n",
    "\n",
    "    return elements\n",
    "\n",
    "# Ejemplo de uso\n",
    "elements_list = [0, 1, 2, 3, 4, 5, 6, 7, 8, 9, 10]\n",
    "intervals_list = [(2, 4), (6, 9)]\n",
    "\n",
    "result = merge_intervals(elements_list, intervals_list)\n",
    "print(result)  # Salida: [0, 1, 6, 5, 15, 10]"
   ]
  },
  {
   "cell_type": "code",
   "execution_count": 53,
   "metadata": {},
   "outputs": [
    {
     "data": {
      "text/plain": [
       "[0, 1, 2, 3, 0, 8, 9, 10]"
      ]
     },
     "execution_count": 53,
     "metadata": {},
     "output_type": "execute_result"
    }
   ],
   "source": [
    "elements = [0, 1, 2, 3, 4, 5, 6, 7, 8, 9, 10]\n",
    "elements[4:8]=[0]\n",
    "elements"
   ]
  },
  {
   "cell_type": "code",
   "execution_count": null,
   "metadata": {},
   "outputs": [],
   "source": []
  }
 ],
 "metadata": {
  "kernelspec": {
   "display_name": "venv",
   "language": "python",
   "name": "python3"
  },
  "language_info": {
   "codemirror_mode": {
    "name": "ipython",
    "version": 3
   },
   "file_extension": ".py",
   "mimetype": "text/x-python",
   "name": "python",
   "nbconvert_exporter": "python",
   "pygments_lexer": "ipython3",
   "version": "3.11.3"
  },
  "orig_nbformat": 4
 },
 "nbformat": 4,
 "nbformat_minor": 2
}
