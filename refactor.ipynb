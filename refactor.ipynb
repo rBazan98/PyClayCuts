{
 "cells": [
  {
   "cell_type": "code",
   "execution_count": 3,
   "metadata": {},
   "outputs": [],
   "source": [
    "import time\n",
    "\n",
    "def mesure(func):\n",
    "    def wrapper(*args, **kwargs):\n",
    "        start_time = time.time()\n",
    "        result = func(*args, **kwargs)\n",
    "        end_time = time.time()\n",
    "        execution_time = end_time - start_time\n",
    "        print(f\"'{func.__name__}': {execution_time:.6f} seconds.\")\n",
    "        return result\n",
    "    return wrapper"
   ]
  },
  {
   "cell_type": "code",
   "execution_count": 4,
   "metadata": {},
   "outputs": [],
   "source": [
    "import matplotlib.pyplot as plt\n",
    "from svgpathtools import Line, QuadraticBezier, CubicBezier, Arc, Path\n",
    "from svgpathtools import svg2paths, svg2paths2, wsvg\n",
    "Path.iscontained = False\n",
    "\n",
    "@mesure\n",
    "def char2paths(char): # Implement character with multiple path, maybe ussing parsing\n",
    "\n",
    "    plt.figure(figsize=(4, 4))\n",
    "    plt.text(0.5, 0.5, char[0], fontsize=200, ha='center', va='center')\n",
    "    plt.axis('off')\n",
    "    filename='.matplot'\n",
    "    plt.savefig(filename, format='svg')\n",
    "    plt.close()\n",
    "    \n",
    "    paths, _, _ = svg2paths2(filename)\n",
    "    paths = paths[1].continuous_subpaths()\n",
    "    wsvg(paths, filename='svgtools.svg')\n",
    "    \n",
    "    return paths #list\n",
    "\n",
    "@mesure\n",
    "def set_contained_attr(paths: list) -> None:\n",
    "    for path in paths:\n",
    "        path.iscontained = any(path.is_contained_by(compare) for compare in paths if compare != path)\n",
    "\n"
   ]
  },
  {
   "cell_type": "code",
   "execution_count": 144,
   "metadata": {},
   "outputs": [],
   "source": [
    "from svgpathtools import Line, QuadraticBezier, CubicBezier, Arc, Path\n",
    "import numpy as np\n",
    "\n",
    "@mesure\n",
    "def offset_segment(seg,distance,res=5):\n",
    "    \n",
    "    if isinstance(seg,Line):\n",
    "        offset_vector = distance * seg.normal(0)\n",
    "        offset_seg = Line(seg.point(0) + offset_vector,seg.point(1) + offset_vector)\n",
    "        return offset_seg\n",
    "\n",
    "    elif isinstance(seg,Arc) or isinstance(seg,QuadraticBezier) or isinstance(seg,Line):\n",
    "\n",
    "        offset_seg = Path()\n",
    "        curr = seg.point(0) + distance * seg.normal(0)\n",
    "        curr_tan = seg.unit_tangent(0)\n",
    "        for k in range(1,res+1):\n",
    "            t=k / res\n",
    "            next = seg.point(t) + distance * seg.normal(t)\n",
    "            next_tan = seg.unit_tangent(t)\n",
    "            \n",
    "            # Having curr/next as start/end  of each segment,\n",
    "            # vectors curr_tan/next_tan pointing to a common point\n",
    "            # to be used as refference for offset segment as bezier\n",
    "            if curr_tan.real == 0:\n",
    "                X = curr.real\n",
    "                Y = (next_tan.imag/next_tan.real) * (X - next.real) + next.imag\n",
    "            \n",
    "            elif next_tan.real == 0:\n",
    "                X = next.real\n",
    "                Y = (curr_tan.imag/curr_tan.real) * (X - curr.real) + curr.imag\n",
    "            \n",
    "            else:\n",
    "                Ax = curr.real; Ay = curr.imag\n",
    "                Bx = next.real; By = next.imag\n",
    "\n",
    "                ma = curr_tan.imag/curr_tan.real\n",
    "                mb = next_tan.imag/next_tan.real\n",
    "\n",
    "                # solving for lines intersection\n",
    "                X = ((By-Ay) - (mb * Bx - ma * Ax))/(ma-mb)\n",
    "                Y = (ma*mb * (Bx-Ax) - (By*ma-Ay*mb))/(mb-ma)\n",
    "            \n",
    "            control = complex(X,Y)\n",
    "            new_element = QuadraticBezier(curr,control,next)\n",
    "            # if offset_seg: print(new_element, offset_seg[-1])\n",
    "            \n",
    "            # print(offset_seg.intersect(new_element))\n",
    "            # Before appending new_element, check if it intersects with some\n",
    "            # non consecutive previous element, if so, delete all elements between\n",
    "            # both of them, chop tails and check for continuity.\n",
    "            offset_seg.append(new_element)\n",
    "            curr = next\n",
    "            curr_tan = next_tan\n",
    "        \n",
    "        return offset_seg            \n",
    "             \n",
    "    else:\n",
    "        raise TypeError(\"Input `segment` should be a Line, \"\n",
    "                        \"QuadraticBezier, CubicBezier, or Arc object.\")\n",
    "\n",
    "@mesure\n",
    "def quad_intersect(qbez1: QuadraticBezier,qbez2: QuadraticBezier):\n",
    "\n",
    "    x01, x11, x21 = qbez1.start.real, qbez1.control.real, qbez1.end.real\n",
    "    x02, x12, x22 = qbez2.start.real, qbez2.control.real, qbez2.end.real\n",
    "    y01, y11, y21 = qbez1.start.imag, qbez1.control.imag, qbez1.end.imag\n",
    "    y02, y12, y22 = qbez2.start.imag, qbez2.control.imag, qbez2.end.imag\n",
    "\n",
    "\n",
    "    A1, A2 = x01 - 2*x11 + x21, x02 - 2*x12 + x22\n",
    "    C1, C2 = y01 - 2*y11 + y21, y02 - 2*y12 + y22\n",
    "    B1, B2 = 2*(x11 - x01), 2*(x12 - x02) \n",
    "    D1, D2 = 2*(y11 - y01), 2*(y12 - y02)\n",
    "    \n",
    "    A, C, F, H = abs(A1) ** 0.5, abs(A2) ** 0.5, abs(C1) ** 0.5, abs(C2) ** 0.5\n",
    "    B, D, G, I = B1/(2*A), B2/(2*C), D1/(2*F), D2/(2*H)\n",
    "\n",
    "    E = (B1**2)/(4*A1) - (B2**2)/(4*A2) + x02 - x01\n",
    "    J = (D1**2)/(4*C1) - (D2**2)/(4*C2) + y02 - y01\n",
    "\n",
    "    P = (abs(H**2 * A**2 - C**2 * F**2))**0.5\n",
    "    Q = (A*B - F*G)/P\n",
    "    R = -((A*B - F*G)**2) * (H**2 * A**2 - C**2 * F**2) + H**2 * B**2 - H**2 * E - C**2 * G**2 + C**2 * J - (H*D - I*C)**2\n",
    "\n",
    "    S = 2*C*(H*D - I*C)\n",
    "\n",
    "    # P = (abs(F**2 * C**2 + A**2 * H**2))**0.5\n",
    "    # Q = (F*C*D + A*H*I)/P\n",
    "    # R = Q**2 + D**2 + I**2 + E*F**2 - J*A**2 - (B*F - A*G)**2\n",
    "    # S = 2*A*(B*F - A*G)\n",
    "    \n",
    "    a = P**4\n",
    "    b = 4 * Q * P**3\n",
    "    c = 6 * P**2 * Q**2 + 2 * R * P**2 + S**2 * F**2\n",
    "    d = 4 * P * Q**3 + 4*R*P*Q + 2 * S**2 * F * G\n",
    "    e = (Q**2 + R)**2 + (S**2)*(J-G**2)\n",
    "\n",
    "    # a = P**4\n",
    "    # b = 4 * Q * P**3\n",
    "    # c = 6 * P**2 * Q**2 + 2 * R * P**2 + S**2 * H**2\n",
    "    # d = 4 * P * Q**3 + 4 * R * P * Q + 2 * S**2 * H * I\n",
    "    # e = 2 * R * Q**2 + R**2 + S**2 * (I**2 - J)\n",
    "\n",
    "    roots = np.roots([a,b,c,d,e])\n",
    "\n",
    "    print(*roots, sep='\\n\\n')"
   ]
  },
  {
   "cell_type": "code",
   "execution_count": 145,
   "metadata": {},
   "outputs": [
    {
     "name": "stdout",
     "output_type": "stream",
     "text": [
      "'offset_segment': 0.000000 seconds.\n",
      "(2.7360689280984234+3.374566764064522j)\n",
      "\n",
      "(2.7360689280984234-3.374566764064522j)\n",
      "\n",
      "(-2.934085135180122+0j)\n",
      "\n",
      "(-1.671264969470404+0j)\n",
      "'quad_intersect': 0.000000 seconds.\n"
     ]
    }
   ],
   "source": [
    "from svgpathtools import Line, QuadraticBezier, CubicBezier, Arc, Path\n",
    "from svgpathtools import svg2paths, svg2paths2, wsvg, disvg\n",
    "seg1 = Line(200+300j, 250+350j)\n",
    "seg2 = Arc(start=200+300j,radius=90+40j,rotation=0,large_arc=True,sweep=True,end=250+350j)\n",
    "seg3 = QuadraticBezier(210+200j,300+400j,300+300j)\n",
    "off = offset_segment(seg3,10)\n",
    "\n",
    "intersected_segs = Path(off[2],off[4])\n",
    "quad_intersect(*intersected_segs)\n",
    "# print(offset_intersects(intersected_segs))\n",
    "# offset2 = offset_segment(seg2,10,res=1000)\n",
    "# print(offset2)\n",
    "# aprox2 = next(offset2.as_cubic_curves(1))\n",
    "# print(path)\n",
    "# offset_path = Path(offset_segments)\n",
    "path = Path(*intersected_segs)\n",
    "disvg(path,filename=\"intersections.svg\",openinbrowser=False)"
   ]
  },
  {
   "cell_type": "code",
   "execution_count": 5,
   "metadata": {},
   "outputs": [
    {
     "name": "stdout",
     "output_type": "stream",
     "text": [
      "'char2paths': 0.114476 seconds.\n",
      "'set_contained_attr': 0.034160 seconds.\n",
      "'run': 0.149636 seconds.\n"
     ]
    }
   ],
   "source": [
    "@mesure\n",
    "def run():\n",
    "    paths = char2paths('%')\n",
    "    set_contained_attr(paths)\n",
    "\n",
    "run()"
   ]
  },
  {
   "cell_type": "code",
   "execution_count": 6,
   "metadata": {},
   "outputs": [],
   "source": [
    "def arc_offset(arc: Arc,distance: float):\n",
    "    start = arc.start + distance * arc.normal(0)\n",
    "    end = arc.end + distance * arc.normal(1)\n",
    "    radius = arc.radius\n",
    "    radius = 1.2*arc.radius\n",
    "    rotation = arc.rotation\n",
    "    large_arc = arc.large_arc\n",
    "    sweep = arc.sweep\n",
    "    offset_arc = Arc(start,radius,rotation,large_arc,sweep,end)\n",
    "    offset_arc.center = arc.center\n",
    "    return offset_arc"
   ]
  },
  {
   "cell_type": "code",
   "execution_count": 7,
   "metadata": {},
   "outputs": [
    {
     "data": {
      "text/plain": [
       "-1.633123935319537e+16"
      ]
     },
     "execution_count": 7,
     "metadata": {},
     "output_type": "execute_result"
    }
   ],
   "source": [
    "import numpy as np\n",
    "seg3 = QuadraticBezier(200+200j,300+400j,300+300j)\n",
    "seg3_tan = seg3.unit_tangent(1)\n",
    "np.tan(np.angle(seg3_tan))"
   ]
  },
  {
   "cell_type": "code",
   "execution_count": 8,
   "metadata": {},
   "outputs": [
    {
     "name": "stdout",
     "output_type": "stream",
     "text": [
      "CubicBezier(start=(100.0, 0.0), control1=(100.0, 0.0), control2=(6.123233995736766e-15, 50.0), end=(6.123233995736766e-15, 50.0))\n",
      "CubicBezier(start=(6.123233995736766e-15, 50.0), control1=(6.123233995736766e-15, 50.0), control2=(-100.0, 6.123233995736766e-15), end=(-100.0, 6.123233995736766e-15))\n",
      "CubicBezier(start=(-100.0, 6.123233995736766e-15), control1=(-100.0, 6.123233995736766e-15), control2=(-1.8369701987210297e-14, -50.0), end=(-1.8369701987210297e-14, -50.0))\n"
     ]
    },
    {
     "ename": "AttributeError",
     "evalue": "'tuple' object has no attribute 'real'",
     "output_type": "error",
     "traceback": [
      "\u001b[1;31m---------------------------------------------------------------------------\u001b[0m",
      "\u001b[1;31mAttributeError\u001b[0m                            Traceback (most recent call last)",
      "Cell \u001b[1;32mIn[8], line 29\u001b[0m\n\u001b[0;32m     26\u001b[0m path \u001b[39m=\u001b[39m Path(\u001b[39m*\u001b[39mpath)\n\u001b[0;32m     28\u001b[0m \u001b[39mprint\u001b[39m(\u001b[39m*\u001b[39mpath,sep\u001b[39m=\u001b[39m\u001b[39m'\u001b[39m\u001b[39m\\n\u001b[39;00m\u001b[39m'\u001b[39m)\n\u001b[1;32m---> 29\u001b[0m disvg(path,filename\u001b[39m=\u001b[39;49m\u001b[39m\"\u001b[39;49m\u001b[39mintersections.svg\u001b[39;49m\u001b[39m\"\u001b[39;49m,openinbrowser\u001b[39m=\u001b[39;49m\u001b[39mFalse\u001b[39;49;00m)\n",
      "File \u001b[1;32mc:\\Users\\ronal_xtu9aky\\Python\\molds_3d\\venv\\Lib\\site-packages\\svgpathtools\\paths2svg.py:279\u001b[0m, in \u001b[0;36mdisvg\u001b[1;34m(paths, colors, filename, stroke_widths, nodes, node_colors, node_radii, openinbrowser, timestamp, margin_size, mindim, dimensions, viewbox, text, text_path, font_size, attributes, svg_attributes, svgwrite_debug, paths2Drawing, baseunit)\u001b[0m\n\u001b[0;32m    277\u001b[0m \u001b[39mif\u001b[39;00m text_path:\n\u001b[0;32m    278\u001b[0m     stuff2bound \u001b[39m+\u001b[39m\u001b[39m=\u001b[39m text_path\n\u001b[1;32m--> 279\u001b[0m xmin, xmax, ymin, ymax \u001b[39m=\u001b[39m big_bounding_box(stuff2bound)\n\u001b[0;32m    280\u001b[0m dx \u001b[39m=\u001b[39m xmax \u001b[39m-\u001b[39m xmin\n\u001b[0;32m    281\u001b[0m dy \u001b[39m=\u001b[39m ymax \u001b[39m-\u001b[39m ymin\n",
      "File \u001b[1;32mc:\\Users\\ronal_xtu9aky\\Python\\molds_3d\\venv\\Lib\\site-packages\\svgpathtools\\paths2svg.py:77\u001b[0m, in \u001b[0;36mbig_bounding_box\u001b[1;34m(paths_n_stuff)\u001b[0m\n\u001b[0;32m     75\u001b[0m \u001b[39mfor\u001b[39;00m thing \u001b[39min\u001b[39;00m paths_n_stuff:\n\u001b[0;32m     76\u001b[0m     \u001b[39mif\u001b[39;00m is_path_segment(thing) \u001b[39mor\u001b[39;00m \u001b[39misinstance\u001b[39m(thing, Path):\n\u001b[1;32m---> 77\u001b[0m         bbs\u001b[39m.\u001b[39mappend(thing\u001b[39m.\u001b[39;49mbbox())\n\u001b[0;32m     78\u001b[0m     \u001b[39melif\u001b[39;00m \u001b[39misinstance\u001b[39m(thing, \u001b[39mcomplex\u001b[39m):\n\u001b[0;32m     79\u001b[0m         bbs\u001b[39m.\u001b[39mappend((thing\u001b[39m.\u001b[39mreal, thing\u001b[39m.\u001b[39mreal, thing\u001b[39m.\u001b[39mimag, thing\u001b[39m.\u001b[39mimag))\n",
      "File \u001b[1;32mc:\\Users\\ronal_xtu9aky\\Python\\molds_3d\\venv\\Lib\\site-packages\\svgpathtools\\path.py:3023\u001b[0m, in \u001b[0;36mPath.bbox\u001b[1;34m(self)\u001b[0m\n\u001b[0;32m   3021\u001b[0m \u001b[39mdef\u001b[39;00m \u001b[39mbbox\u001b[39m(\u001b[39mself\u001b[39m):\n\u001b[0;32m   3022\u001b[0m \u001b[39m    \u001b[39m\u001b[39m\"\"\"returns bounding box in the form (xmin, xmax, ymin, ymax).\"\"\"\u001b[39;00m\n\u001b[1;32m-> 3023\u001b[0m     bbs \u001b[39m=\u001b[39m [seg\u001b[39m.\u001b[39;49mbbox() \u001b[39mfor\u001b[39;49;00m seg \u001b[39min\u001b[39;49;00m \u001b[39mself\u001b[39;49m\u001b[39m.\u001b[39;49m_segments]\n\u001b[0;32m   3024\u001b[0m     xmins, xmaxs, ymins, ymaxs \u001b[39m=\u001b[39m \u001b[39mlist\u001b[39m(\u001b[39mzip\u001b[39m(\u001b[39m*\u001b[39mbbs))\n\u001b[0;32m   3025\u001b[0m     xmin \u001b[39m=\u001b[39m \u001b[39mmin\u001b[39m(xmins)\n",
      "File \u001b[1;32mc:\\Users\\ronal_xtu9aky\\Python\\molds_3d\\venv\\Lib\\site-packages\\svgpathtools\\path.py:3023\u001b[0m, in \u001b[0;36m<listcomp>\u001b[1;34m(.0)\u001b[0m\n\u001b[0;32m   3021\u001b[0m \u001b[39mdef\u001b[39;00m \u001b[39mbbox\u001b[39m(\u001b[39mself\u001b[39m):\n\u001b[0;32m   3022\u001b[0m \u001b[39m    \u001b[39m\u001b[39m\"\"\"returns bounding box in the form (xmin, xmax, ymin, ymax).\"\"\"\u001b[39;00m\n\u001b[1;32m-> 3023\u001b[0m     bbs \u001b[39m=\u001b[39m [seg\u001b[39m.\u001b[39;49mbbox() \u001b[39mfor\u001b[39;00m seg \u001b[39min\u001b[39;00m \u001b[39mself\u001b[39m\u001b[39m.\u001b[39m_segments]\n\u001b[0;32m   3024\u001b[0m     xmins, xmaxs, ymins, ymaxs \u001b[39m=\u001b[39m \u001b[39mlist\u001b[39m(\u001b[39mzip\u001b[39m(\u001b[39m*\u001b[39mbbs))\n\u001b[0;32m   3025\u001b[0m     xmin \u001b[39m=\u001b[39m \u001b[39mmin\u001b[39m(xmins)\n",
      "File \u001b[1;32mc:\\Users\\ronal_xtu9aky\\Python\\molds_3d\\venv\\Lib\\site-packages\\svgpathtools\\path.py:1363\u001b[0m, in \u001b[0;36mCubicBezier.bbox\u001b[1;34m(self)\u001b[0m\n\u001b[0;32m   1361\u001b[0m \u001b[39mdef\u001b[39;00m \u001b[39mbbox\u001b[39m(\u001b[39mself\u001b[39m):\n\u001b[0;32m   1362\u001b[0m \u001b[39m    \u001b[39m\u001b[39m\"\"\"returns bounding box in format (xmin, xmax, ymin, ymax).\"\"\"\u001b[39;00m\n\u001b[1;32m-> 1363\u001b[0m     \u001b[39mreturn\u001b[39;00m bezier_bounding_box(\u001b[39mself\u001b[39;49m)\n",
      "File \u001b[1;32mc:\\Users\\ronal_xtu9aky\\Python\\molds_3d\\venv\\Lib\\site-packages\\svgpathtools\\bezier.py:211\u001b[0m, in \u001b[0;36mbezier_bounding_box\u001b[1;34m(bez)\u001b[0m\n\u001b[0;32m    208\u001b[0m \u001b[39m# end arc support block ##########################\u001b[39;00m\n\u001b[0;32m    210\u001b[0m \u001b[39mif\u001b[39;00m \u001b[39mlen\u001b[39m(bez) \u001b[39m==\u001b[39m \u001b[39m4\u001b[39m:\n\u001b[1;32m--> 211\u001b[0m     xmin, xmax \u001b[39m=\u001b[39m bezier_real_minmax([p\u001b[39m.\u001b[39;49mreal \u001b[39mfor\u001b[39;49;00m p \u001b[39min\u001b[39;49;00m bez])\n\u001b[0;32m    212\u001b[0m     ymin, ymax \u001b[39m=\u001b[39m bezier_real_minmax([p\u001b[39m.\u001b[39mimag \u001b[39mfor\u001b[39;00m p \u001b[39min\u001b[39;00m bez])\n\u001b[0;32m    213\u001b[0m     \u001b[39mreturn\u001b[39;00m xmin, xmax, ymin, ymax\n",
      "File \u001b[1;32mc:\\Users\\ronal_xtu9aky\\Python\\molds_3d\\venv\\Lib\\site-packages\\svgpathtools\\bezier.py:211\u001b[0m, in \u001b[0;36m<listcomp>\u001b[1;34m(.0)\u001b[0m\n\u001b[0;32m    208\u001b[0m \u001b[39m# end arc support block ##########################\u001b[39;00m\n\u001b[0;32m    210\u001b[0m \u001b[39mif\u001b[39;00m \u001b[39mlen\u001b[39m(bez) \u001b[39m==\u001b[39m \u001b[39m4\u001b[39m:\n\u001b[1;32m--> 211\u001b[0m     xmin, xmax \u001b[39m=\u001b[39m bezier_real_minmax([p\u001b[39m.\u001b[39;49mreal \u001b[39mfor\u001b[39;00m p \u001b[39min\u001b[39;00m bez])\n\u001b[0;32m    212\u001b[0m     ymin, ymax \u001b[39m=\u001b[39m bezier_real_minmax([p\u001b[39m.\u001b[39mimag \u001b[39mfor\u001b[39;00m p \u001b[39min\u001b[39;00m bez])\n\u001b[0;32m    213\u001b[0m     \u001b[39mreturn\u001b[39;00m xmin, xmax, ymin, ymax\n",
      "\u001b[1;31mAttributeError\u001b[0m: 'tuple' object has no attribute 'real'"
     ]
    }
   ],
   "source": [
    "from svgpathtools import Path, CubicBezier, Arc\n",
    "from svgpathtools import svg2paths, svg2paths2, wsvg, disvg\n",
    "import numpy as np\n",
    "\n",
    "def ellipse_parametric(a, b, t):\n",
    "    x = a * np.cos(t)\n",
    "    y = b * np.sin(t)\n",
    "    return x, y\n",
    "\n",
    "# Semiejes de la elipse\n",
    "a = 100  # Semieje mayor\n",
    "b = 50   # Semieje menor\n",
    "\n",
    "# Número de puntos para aproximar la elipse\n",
    "num_points = 4\n",
    "\n",
    "# Crear el vector de valores de t\n",
    "t_values = np.linspace(0, 2*np.pi, num_points, endpoint=False)\n",
    "\n",
    "# Crear la lista de puntos para la curva paramétrica de la elipse\n",
    "points = [ellipse_parametric(a, b, t) for t in t_values]\n",
    "\n",
    "# Crear la ruta paramétrica utilizando la lista de puntos\n",
    "path = [CubicBezier(start=points[i], control1=points[i], control2=points[i+1], end=points[i+1]) for i in range(num_points-1)]\n",
    "\n",
    "path = Path(*path)\n",
    "\n",
    "print(*path,sep='\\n')\n",
    "disvg(path,filename=\"intersections.svg\",openinbrowser=False)"
   ]
  },
  {
   "cell_type": "code",
   "execution_count": 86,
   "metadata": {},
   "outputs": [
    {
     "data": {
      "text/plain": [
       "100.0"
      ]
     },
     "execution_count": 86,
     "metadata": {},
     "output_type": "execute_result"
    }
   ],
   "source": [
    "for t in range(20000000):\n",
    "    a = 10000**0.5\n",
    "\n",
    "a"
   ]
  },
  {
   "cell_type": "code",
   "execution_count": 87,
   "metadata": {},
   "outputs": [
    {
     "data": {
      "text/plain": [
       "100.0"
      ]
     },
     "execution_count": 87,
     "metadata": {},
     "output_type": "execute_result"
    }
   ],
   "source": [
    "for t in range(20000000):\n",
    "    a = np.sqrt(10000)\n",
    "\n",
    "a"
   ]
  },
  {
   "cell_type": "code",
   "execution_count": null,
   "metadata": {},
   "outputs": [],
   "source": []
  }
 ],
 "metadata": {
  "kernelspec": {
   "display_name": "venv",
   "language": "python",
   "name": "python3"
  },
  "language_info": {
   "codemirror_mode": {
    "name": "ipython",
    "version": 3
   },
   "file_extension": ".py",
   "mimetype": "text/x-python",
   "name": "python",
   "nbconvert_exporter": "python",
   "pygments_lexer": "ipython3",
   "version": "3.11.3"
  },
  "orig_nbformat": 4
 },
 "nbformat": 4,
 "nbformat_minor": 2
}
