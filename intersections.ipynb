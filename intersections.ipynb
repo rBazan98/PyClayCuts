{
 "cells": [
  {
   "cell_type": "code",
   "execution_count": null,
   "metadata": {},
   "outputs": [],
   "source": [
    "def y_bez1(x):\n",
    "    #ybez1\n",
    "    y11 = x * 2\n",
    "    y12 = x + 3\n",
    "\n",
    "    return y11, y12\n",
    "\n",
    "def y_bez2(x):\n",
    "    #ybez2\n",
    "    y21 = x ** 2\n",
    "    y22 = x - 1\n",
    "\n",
    "    return y21, y22\n",
    "\n",
    "roots = [1, 2, 3, 4]  # Lista de elementos\n",
    "\n",
    "intersections = []  # Lista para almacenar las intersecciones\n",
    "\n",
    "for root in roots:\n",
    "    y11, y12 = y_bez1(root)\n",
    "    y21, y22 = y_bez2(root)\n",
    "    \n",
    "    if y11 in (y21, y22):\n",
    "        intersections.append((root, y11))\n",
    "    if y12 in (y21, y22):\n",
    "        intersections.append((root, y12))\n",
    "\n",
    "print(intersections)\n"
   ]
  },
  {
   "cell_type": "code",
   "execution_count": 1,
   "metadata": {},
   "outputs": [],
   "source": [
    "from svgpathtools import Path, Line, QuadraticBezier, CubicBezier, Arc, disvg\n",
    "import numpy as np\n",
    "seg1 = QuadraticBezier(250+100j, 200+500j, 300+100j)  # A cubic beginning at (300, 100) and ending at (200, 300)\n",
    "seg2 = QuadraticBezier(400+150j, 0+100j, 400+200j)  # A line beginning at (200, 300) and ending at (250, 350)\n",
    "path = Path(seg1, seg2)"
   ]
  },
  {
   "cell_type": "code",
   "execution_count": 4,
   "metadata": {},
   "outputs": [],
   "source": [
    "x01, x11, x21 = seg1.start.real, seg1.control.real, seg1.end.real\n",
    "x02, x12, x22 = seg2.start.real, seg2.control.real, seg2.end.real\n",
    "y01, y11, y21 = seg1.start.imag, seg1.control.imag, seg1.end.imag\n",
    "y02, y12, y22 = seg2.start.imag, seg2.control.imag, seg2.end.imag\n",
    "\n",
    "A1, B1 = x01 - 2*x11 + x21, 2*x11 - 2*x01\n",
    "A2, B2 = x02 - 2*x12 + x22, 2*x12 - 2*x02\n",
    "C1, D1 = y01 - 2*y11 + y21, 2*y11 - 2*y01\n",
    "C2, D2 = y02 - 2*y12 + y22, 2*y12 - 2*y02\n",
    "\n",
    "a = 4*(A1**2*C2**2 - 2*A1*A2*C1*C2 + A2**2*C1**2)*A2**2\n",
    "b = -8*(A1*C2 - A2*C1)*A2**2*(A2*D1 - B1*C2)\n",
    "c = -4*(A1*(A2*(2*C2*(y01 - y02) + D2**2) - (B2*D2 + 2*C2*(x01 - x02))*C2) - A2**2*(2*C1*(y01 - y02) + D1**2) + A2*(2*B1*C2*D1 - (B2*D2 - 2*C2*(x01 - x02))*C1) - (B1**2*C2 - B2**2*C1)*C2)*A2**2\n",
    "d = 4*A2**2*(2*A2**2*D1*(y01 - y02) - A2*(B1*(2*C2*(y01 - y02) + D2**2) - (B2*D2 - 2*C2*(x01 - x02))*D1) + (B1*(B2*D2 + 2*C2*(x01 - x02)) - B2**2*D1)*C2)\n",
    "e = 4*A2**2*(A2**2*(y01**2 - 2*y01*y02 + y02**2) + A2*(B2*D2*(y01 - y02) - (2*C2*(y01 - y02) + D2**2)*(x01 - x02)) - (B2**2*(y01 - y02) - B2*D2*(x01 - x02) - C2*(x01**2 - 2*x01*x02 + x02**2))                                                                                                                                       \n",
    "roots = np.roots([a,b,c,d,e])\n",
    "nodes = [seg1.start,seg1.control,seg1.end,                                                                                                                                                                                             \n",
    "          seg2.start,seg2.control,seg2.end]\n",
    "\n",
    "nodes = nodes + [seg1.point(t) for t in roots]\n",
    "\n",
    "disvg(path,nodes=nodes)\n",
    "# if any(abs(root) <= 1 and root.imag == 0 for root in roots):\n",
    "#     disvg(path,nodes=nodes)"
   ]
  },
  {
   "cell_type": "code",
   "execution_count": 13,
   "metadata": {},
   "outputs": [
    {
     "name": "stdout",
     "output_type": "stream",
     "text": [
      "\n",
      "4*(a1^(2)*c2^(2) - 2*a1*a2*c1*c2 + a2^(2)*c1^(2))*a2^(2)\n",
      "−8*(a1*c2 - a2*c1)*a2^(2)*(a2*d1 - b1*c2)\n",
      "−4*(a1*(a2*(2*c2*(y01 - y02) + d2^(2)) - (b2*d2 + 2*c2*(x01 - x02))*c2) - a2^(2)*(2*c1*(y01 - y02) + d1^(2)) + a2*(2*b1*c2*d1 - (b2*d2 - 2*c2*(x01 - x02))*c1) - (b1^(2)*c2 - b2^(2)*c1)*c2)*a2^(2)\n",
      "4*a2^(2)*(2*a2^(2)*d1*(y01 - y02) - a2*(b1*(2*c2*(y01 - y02) + d2^(2)) - (b2*d2 - 2*c2*(x01 - x02))*d1) + (b1*(b2*d2 + 2*c2*(x01 - x02)) - b2^(2)*d1)*c2)\n",
      "4*a2^(2)*(a2^(2)*(y01^(2) - 2*y01*y02 + y02^(2)) + a2*(b2*d2*(y01 - y02) - (2*c2*(y01 - y02) + d2^(2))*(x01 - x02)) - (b2^(2)*(y01 - y02) - b2*d2*(x01 - x02) - c2*(x01^(2) - 2*x01*x02 + x02^(2)))*c2)\n",
      "\n"
     ]
    }
   ],
   "source": [
    "print(\"\"\"\n",
    "4*(a1^(2)*c2^(2)-2*a1*a2*c1*c2+a2^(2)*c1^(2))*a2^(2),−8*(a1*c2-a2*c1)*a2^(2)*(a2*d1-b1*c2),−4*(a1*(a2*(2*c2*(y01-y02)+d2^(2))-(b2*d2+2*c2*(x01-x02))*c2)-a2^(2)*(2*c1*(y01-y02)+d1^(2))+a2*(2*b1*c2*d1-(b2*d2-2*c2*(x01-x02))*c1)-(b1^(2)*c2-b2^(2)*c1)*c2)*a2^(2),4*a2^(2)*(2*a2^(2)*d1*(y01-y02)-a2*(b1*(2*c2*(y01-y02)+d2^(2))-(b2*d2-2*c2*(x01-x02))*d1)+(b1*(b2*d2+2*c2*(x01-x02))-b2^(2)*d1)*c2),4*a2^(2)*(a2^(2)*(y01^(2)-2*y01*y02+y02^(2))+a2*(b2*d2*(y01-y02)-(2*c2*(y01-y02)+d2^(2))*(x01-x02))-(b2^(2)*(y01-y02)-b2*d2*(x01-x02)-c2*(x01^(2)-2*x01*x02+x02^(2)))*c2)\n",
    "\"\"\".replace('+',' + ').replace('-',' - ').replace(',','\\n'))"
   ]
  },
  {
   "cell_type": "code",
   "execution_count": 14,
   "metadata": {},
   "outputs": [
    {
     "name": "stdout",
     "output_type": "stream",
     "text": [
      "\n",
      "4*(A1**2*C2**2 - 2*A1*A2*C1*C2 + A2**2*C1**2)*A2**2\n",
      "-8*(A1*C2 - A2*C1)*A2**2*(A2*D1 - B1*C2)\n",
      "-4*(A1*(A2*(2*C2*(y01 - y02) + D2**2) - (B2*D2 + 2*C2*(x01 - x02))*C2) - A2**2*(2*C1*(y01 - y02) + D1**2) + A2*(2*B1*C2*D1 - (B2*D2 - 2*C2*(x01 - x02))*C1) - (B1**2*C2 - B2**2*C1)*C2)*A2**2\n",
      "4*A2**2*(2*A2**2*D1*(y01 - y02) - A2*(B1*(2*C2*(y01 - y02) + D2**2) - (B2*D2 - 2*C2*(x01 - x02))*D1) + (B1*(B2*D2 + 2*C2*(x01 - x02)) - B2**2*D1)*C2)\n",
      "4*A2**2*(A2**2*(y01**2 - 2*y01*y02 + y02**2) + A2*(B2*D2*(y01 - y02) - (2*C2*(y01 - y02) + D2**2)*(x01 - x02)) - (B2**2*(y01 - y02) - B2*D2*(x01 - x02) - C2*(x01**2 - 2*x01*x02 + x02**2))*C2)\n",
      "\n"
     ]
    }
   ],
   "source": [
    "eq = \"\"\"\n",
    "4*(a1^(2)*c2^(2) - 2*a1*a2*c1*c2 + a2^(2)*c1^(2))*a2^(2)\n",
    "-8*(a1*c2 - a2*c1)*a2^(2)*(a2*d1 - b1*c2)\n",
    "-4*(a1*(a2*(2*c2*(y01 - y02) + d2^(2)) - (b2*d2 + 2*c2*(x01 - x02))*c2) - a2^(2)*(2*c1*(y01 - y02) + d1^(2)) + a2*(2*b1*c2*d1 - (b2*d2 - 2*c2*(x01 - x02))*c1) - (b1^(2)*c2 - b2^(2)*c1)*c2)*a2^(2)\n",
    "4*a2^(2)*(2*a2^(2)*d1*(y01 - y02) - a2*(b1*(2*c2*(y01 - y02) + d2^(2)) - (b2*d2 - 2*c2*(x01 - x02))*d1) + (b1*(b2*d2 + 2*c2*(x01 - x02)) - b2^(2)*d1)*c2)\n",
    "4*a2^(2)*(a2^(2)*(y01^(2) - 2*y01*y02 + y02^(2)) + a2*(b2*d2*(y01 - y02) - (2*c2*(y01 - y02) + d2^(2))*(x01 - x02)) - (b2^(2)*(y01 - y02) - b2*d2*(x01 - x02) - c2*(x01^(2) - 2*x01*x02 + x02^(2)))*c2)\n",
    "\"\"\".replace('₀','0').replace('₁','1').replace('₂','2').replace('^','**').replace('o','0')\n",
    "eq=eq.replace('a','A').replace('b','B').replace('c','C').replace('d','D').replace('(2)','2').replace('(3)','3').replace('(4)','4')\n",
    "print(eq)"
   ]
  },
  {
   "cell_type": "code",
   "execution_count": null,
   "metadata": {},
   "outputs": [],
   "source": [
    "se={1,2,3,3,4}\n",
    "se.update({5,2})\n",
    "se"
   ]
  },
  {
   "cell_type": "code",
   "execution_count": null,
   "metadata": {},
   "outputs": [],
   "source": [
    "for s in {-1,1}:\n",
    "    print(s)"
   ]
  },
  {
   "cell_type": "code",
   "execution_count": null,
   "metadata": {},
   "outputs": [],
   "source": []
  }
 ],
 "metadata": {
  "kernelspec": {
   "display_name": "venv",
   "language": "python",
   "name": "python3"
  },
  "language_info": {
   "codemirror_mode": {
    "name": "ipython",
    "version": 3
   },
   "file_extension": ".py",
   "mimetype": "text/x-python",
   "name": "python",
   "nbconvert_exporter": "python",
   "pygments_lexer": "ipython3",
   "version": "3.11.3"
  },
  "orig_nbformat": 4
 },
 "nbformat": 4,
 "nbformat_minor": 2
}
