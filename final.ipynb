{
 "cells": [
  {
   "cell_type": "code",
   "execution_count": 19,
   "metadata": {},
   "outputs": [],
   "source": [
    "from svgpathtools import Path, Line, QuadraticBezier, CubicBezier, Arc, disvg, wsvg\n",
    "import numpy as np\n",
    "\n",
    "seg1 = QuadraticBezier(100+100j, 200+500j, 300+100j)  # A cubic beginning at (300, 100) and ending at (200, 300)\n",
    "seg2 = QuadraticBezier(400+150j, 0+100j, 400+200j)  # A line beginning at (200, 300) and ending at (250, 350)\n",
    "seg3 = Line(50+100j,400+200j)\n",
    "#Four Intersections\n",
    "#seg1 = QuadraticBezier(250+100j, 200+500j, 300+100j)  # A cubic beginning at (300, 100) and ending at (200, 300)\n",
    "#seg2 = QuadraticBezier(400+150j, 0+100j, 400+200j)  # A line beginning at (200, 300) and ending at (250, 350)\n",
    "path = Path(seg1, seg2, seg3)\n",
    "\n",
    "off1 = QuadraticBezier(100+100j, 200+500j, 300+100j)  # A cubic beginning at (300, 100) and ending at (200, 300)\n",
    "off2 = QuadraticBezier(400+150j, 0+100j, 400+200j)  # A line beginning at (200, 300) and ending at (250, 350)\n",
    "off3 = Line(50+100j,400+200j)\n",
    "\n",
    "off_path = Path(off1,off2,off3)"
   ]
  },
  {
   "cell_type": "code",
   "execution_count": 4,
   "metadata": {},
   "outputs": [],
   "source": [
    "import time\n",
    "\n",
    "def mesure(func):\n",
    "    def wrapper(*args, **kwargs):\n",
    "        start_time = time.time()\n",
    "        result = func(*args, **kwargs)\n",
    "        end_time = time.time()\n",
    "        execution_time = end_time - start_time\n",
    "        print(f\"'{func.__name__}': {execution_time:.6f} seconds.\")\n",
    "        return result\n",
    "    return wrapper"
   ]
  },
  {
   "cell_type": "code",
   "execution_count": 68,
   "metadata": {},
   "outputs": [],
   "source": [
    "@mesure\n",
    "def offset_segment(seg,distance,res=5) -> list: \n",
    "    distance = distance * - 1\n",
    "\n",
    "    if isinstance(seg,Line):\n",
    "        offset_vector = distance * seg.normal(0)\n",
    "        offset_seg = Line(seg.point(0) + offset_vector,seg.point(1) + offset_vector)\n",
    "        return offset_seg\n",
    "\n",
    "    elif isinstance(seg,(Arc, QuadraticBezier, Line)):\n",
    "\n",
    "        offset_seg = Path()\n",
    "        curr = seg.point(0) + distance * seg.normal(0)\n",
    "        curr_tan = seg.unit_tangent(0)\n",
    "        for k in range(1,res+1):\n",
    "            t=k / res\n",
    "            next = seg.point(t) + distance * seg.normal(t)\n",
    "            next_tan = seg.unit_tangent(t)\n",
    "            \n",
    "            # Having curr/next as start/end  of each segment,\n",
    "            # vectors curr_tan/next_tan pointing to a common point\n",
    "            # can be used as refference for offset segment as bezier curve\n",
    "            if curr_tan.real == 0:\n",
    "                X = curr.real\n",
    "                Y = (next_tan.imag/next_tan.real) * (X - next.real) + next.imag\n",
    "            \n",
    "            elif next_tan.real == 0:\n",
    "                X = next.real\n",
    "                Y = (curr_tan.imag/curr_tan.real) * (X - curr.real) + curr.imag\n",
    "            \n",
    "            else:\n",
    "                Ax = curr.real; Ay = curr.imag\n",
    "                Bx = next.real; By = next.imag\n",
    "\n",
    "                ma = curr_tan.imag/curr_tan.real\n",
    "                mb = next_tan.imag/next_tan.real\n",
    "\n",
    "                # solving for lines intersection\n",
    "                X = ((By-Ay) - (mb * Bx - ma * Ax))/(ma-mb)\n",
    "                Y = (ma*mb * (Bx-Ax) - (By*ma-Ay*mb))/(mb-ma)\n",
    "            \n",
    "            control = complex(X,Y)\n",
    "            new_element = QuadraticBezier(curr,control,next)\n",
    "            # if offset_seg: print(new_element, offset_seg[-1])\n",
    "            \n",
    "            # print(offset_seg.intersect(new_element))\n",
    "            # Before appending new_element, check if it intersects with some\n",
    "            # non consecutive previous element, if so, delete all elements between\n",
    "            # both of them, chop tails and check for continuity.\n",
    "            offset_seg.append(new_element)\n",
    "            curr = next\n",
    "            curr_tan = next_tan\n",
    "        \n",
    "        return offset_seg  #-> Path\n",
    "\n",
    "    else:\n",
    "        raise TypeError(\"Input `segment` should be a Line, \"\n",
    "                        \"QuadraticBezier, CubicBezier, or Arc object.\")\n",
    "\n",
    "\n",
    "def remove_loops(path:Path) -> Path:\n",
    "    for i, seg in enumerate(path[:-2]):\n",
    "        seg3 = [path[i+2]]\n",
    "        print(seg,seg3)\n"
   ]
  },
  {
   "cell_type": "code",
   "execution_count": 53,
   "metadata": {},
   "outputs": [],
   "source": [
    "import matplotlib.pyplot as plt\n",
    "from svgpathtools import Line, QuadraticBezier, CubicBezier, Arc, Path\n",
    "from svgpathtools import svg2paths, svg2paths2, wsvg\n",
    "Path.iscontained = False\n",
    "\n",
    "@mesure\n",
    "def char2paths(char): # Implement character with multiple path, maybe ussing parsing\n",
    "\n",
    "    plt.figure(figsize=(4, 4))\n",
    "    plt.text(0.5, 0.5, char[0], fontsize=200, ha='center', va='center')\n",
    "    plt.axis('off')\n",
    "    filename='.matplot'\n",
    "    plt.savefig(filename, format='svg')\n",
    "    plt.close()\n",
    "    \n",
    "    paths, _, _ = svg2paths2(filename)\n",
    "    paths = paths[1].continuous_subpaths()\n",
    "    wsvg(paths, filename='svgtools.svg')\n",
    "    \n",
    "    return paths #list\n",
    "\n",
    "@mesure\n",
    "def set_contained_attr(paths: list) -> None:\n",
    "    for path in paths:\n",
    "        path.iscontained = any(path.is_contained_by(compare) for compare in paths if compare != path)"
   ]
  },
  {
   "cell_type": "code",
   "execution_count": 69,
   "metadata": {},
   "outputs": [
    {
     "name": "stdout",
     "output_type": "stream",
     "text": [
      "'offset_segment': 0.000000 seconds.\n",
      "QuadraticBezier(start=(398.7596526541079+159.92277876713666j), control=(318.96415912689054+149.94834207623447j), end=(271.16954520146265+145.96545758244883j)) [QuadraticBezier(start=(209.24034734589208+143.92277876713666j), control=(226.01305931659536+141.82618977079875j), end=(212.47213595499957+135.05572809000085j))]\n",
      "QuadraticBezier(start=(271.16954520146265+145.96545758244883j), control=(224.2071681746219+142.05192616354543j), end=(209.24034734589208+143.92277876713666j)) [QuadraticBezier(start=(212.47213595499957+135.05572809000085j), control=(227.66563145999496+142.65247584249852j), end=(274.80000000000007+156.40000000000003j))]\n",
      "QuadraticBezier(start=(209.24034734589208+143.92277876713666j), control=(226.01305931659536+141.82618977079875j), end=(212.47213595499957+135.05572809000085j)) [QuadraticBezier(start=(274.80000000000007+156.40000000000003j), control=(322.6136624629399+170.34565155169085j), end=(402.42535625036334+190.29857499854668j))]\n"
     ]
    }
   ],
   "source": [
    "test = offset_segment(off2,-10)\n",
    "remove_loops(test)\n",
    "nodes = [seg.start for seg in test] + [test.end]\n",
    "wsvg([off2,test],filename='display_c.svg',nodes=nodes)"
   ]
  },
  {
   "cell_type": "code",
   "execution_count": null,
   "metadata": {},
   "outputs": [],
   "source": []
  }
 ],
 "metadata": {
  "kernelspec": {
   "display_name": "venv",
   "language": "python",
   "name": "python3"
  },
  "language_info": {
   "codemirror_mode": {
    "name": "ipython",
    "version": 3
   },
   "file_extension": ".py",
   "mimetype": "text/x-python",
   "name": "python",
   "nbconvert_exporter": "python",
   "pygments_lexer": "ipython3",
   "version": "3.11.5"
  },
  "orig_nbformat": 4
 },
 "nbformat": 4,
 "nbformat_minor": 2
}
