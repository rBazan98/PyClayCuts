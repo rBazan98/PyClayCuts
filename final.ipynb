{
 "cells": [
  {
   "cell_type": "code",
   "execution_count": 1,
   "metadata": {},
   "outputs": [],
   "source": [
    "from svgpathtools import Path, Line, QuadraticBezier, CubicBezier, Arc, disvg, wsvg\n",
    "import numpy as np\n",
    "\n",
    "seg1 = QuadraticBezier(100+100j, 200+500j, 300+100j)  # A cubic beginning at (300, 100) and ending at (200, 300)\n",
    "seg2 = QuadraticBezier(400+150j, 0+100j, 400+200j)  # A line beginning at (200, 300) and ending at (250, 350)\n",
    "seg3 = Line(50+100j,400+200j)\n",
    "#Four Intersections\n",
    "#seg1 = QuadraticBezier(250+100j, 200+500j, 300+100j)  # A cubic beginning at (300, 100) and ending at (200, 300)\n",
    "#seg2 = QuadraticBezier(400+150j, 0+100j, 400+200j)  # A line beginning at (200, 300) and ending at (250, 350)\n",
    "path = Path(seg1, seg2, seg3)\n",
    "\n",
    "off1 = QuadraticBezier(100+100j, 200+500j, 300+100j)  # A cubic beginning at (300, 100) and ending at (200, 300)\n",
    "off2 = QuadraticBezier(400+150j, 0+100j, 400+200j)  # A line beginning at (200, 300) and ending at (250, 350)\n",
    "off3 = Line(50+100j,400+200j)\n",
    "\n",
    "off_path = Path(off1,off2,off3)"
   ]
  },
  {
   "cell_type": "code",
   "execution_count": 2,
   "metadata": {},
   "outputs": [],
   "source": [
    "import time\n",
    "def mesure(func):\n",
    "    def wrapper(*args, **kwargs):\n",
    "        start_time = time.time()\n",
    "        result = func(*args, **kwargs)\n",
    "        end_time = time.time()\n",
    "        execution_time = end_time - start_time\n",
    "        print(f\"'{func.__name__}': {execution_time:.6f} seconds.\")\n",
    "        return result\n",
    "    return wrapper"
   ]
  },
  {
   "cell_type": "code",
   "execution_count": 147,
   "metadata": {},
   "outputs": [],
   "source": [
    "# @mesure\n",
    "def offset_segment(seg,distance,res=5,prev_end=None) -> list: \n",
    "    distance = distance * - 1\n",
    "    # print()\n",
    "    if isinstance(seg,Line):\n",
    "        offset_vector = distance * seg.normal(0)\n",
    "        if prev_end and (abs(prev_end - (seg.point(0) + offset_vector))<=10):\n",
    "            offset_seg = Line(prev_end,seg.point(1) + offset_vector)\n",
    "        else:\n",
    "            # offset_vector = distance * seg.normal(0)\n",
    "            offset_seg = Line(seg.point(0) + offset_vector,seg.point(1) + offset_vector)\n",
    "        return [offset_seg]\n",
    "\n",
    "    elif isinstance(seg,(Arc, QuadraticBezier)):\n",
    "        offset_seg = Path()\n",
    "        # print('prev:', prev_end,'curr:', seg.point(0) + distance * seg.normal(0))\n",
    "        \n",
    "        if prev_end and (abs(prev_end - (seg.point(0) + distance * seg.normal(0)))<=10):\n",
    "            # print(abs(prev_end - (seg.point(0) + distance * seg.normal(0))))\n",
    "            curr = prev_end\n",
    "            # print('ocurre',curr)\n",
    "        else:\n",
    "            curr = seg.point(0) + distance * seg.normal(0)\n",
    "            # print('no ocurre')\n",
    "\n",
    "        # curr = seg.point(0) + distance * seg.normal(0)    \n",
    "        curr_tan = seg.unit_tangent(0)\n",
    "        for k in range(1,res+1):\n",
    "            t=k / res\n",
    "            next = seg.point(t) + distance * seg.normal(t)\n",
    "            next_tan = seg.unit_tangent(t)\n",
    "            \n",
    "            # Having curr/next as start/end  of each segment,\n",
    "            # vectors curr_tan/next_tan pointing to a common point\n",
    "            # can be used as refference for offset segment as bezier curve\n",
    "            if curr_tan.real == 0:\n",
    "                X = curr.real\n",
    "                Y = (next_tan.imag/next_tan.real) * (X - next.real) + next.imag\n",
    "\n",
    "            elif next_tan.real == 0:\n",
    "                X = next.real\n",
    "                Y = (curr_tan.imag/curr_tan.real) * (X - curr.real) + curr.imag\n",
    "\n",
    "            else:\n",
    "                Ax = curr.real; Ay = curr.imag\n",
    "                Bx = next.real; By = next.imag\n",
    "\n",
    "                ma = curr_tan.imag/curr_tan.real\n",
    "                mb = next_tan.imag/next_tan.real\n",
    "\n",
    "                # solving for lines intersection\n",
    "                X = ((By-Ay) - (mb * Bx - ma * Ax))/(ma-mb)\n",
    "                Y = (ma*mb * (Bx-Ax) - (By*ma-Ay*mb))/(mb-ma)\n",
    "\n",
    "            control = complex(X,Y)\n",
    "            new_element = QuadraticBezier(curr,control,next)\n",
    "\n",
    "            # Before appending new_element, check if it intersects with some\n",
    "            # non consecutive previous element, if so, delete all elements between\n",
    "            # both of them, chop tails and check for continuity.\n",
    "\n",
    "            offset_seg.append(new_element)\n",
    "            # print(curr,next)\n",
    "            curr = next\n",
    "            curr_tan = next_tan\n",
    "        \n",
    "        return list(offset_seg)  #-> Path\n",
    "\n",
    "    else:\n",
    "        raise TypeError(\"Input `segment` should be a Line, \"\n",
    "                        \"QuadraticBezier, CubicBezier, or Arc object.\")\n",
    "\n",
    "def offset_path(path: Path,distance,res=5) -> list:\n",
    "    result_path = Path()\n",
    "    if path.iscontained: distance = distance * -1\n",
    "    for i, seg in enumerate(path):\n",
    "        next_seg = path[(i+1)%len(path)]\n",
    "\n",
    "        # print('Control:',result_path.end)\n",
    "        if result_path:\n",
    "            result_path.extend(offset_segment(seg,distance,res,result_path.end)) ###\n",
    "        else:\n",
    "            result_path.extend(offset_segment(seg,distance,res)) ###\n",
    "\n",
    "        # if seg.normal(1) != next_seg.normal(0):\n",
    "        if abs(seg.normal(1) - next_seg.normal(0))>0.1:\n",
    "\n",
    "            result_path.append(Arc(start=seg.point(1) - distance * seg.normal(1), ###\n",
    "                radius=complex(distance, distance),\n",
    "                rotation=0,\n",
    "                large_arc=False,\n",
    "                sweep=distance<0,\n",
    "                end=next_seg.point(0) - distance * next_seg.normal(0)))\n",
    "    return result_path\n"
   ]
  },
  {
   "cell_type": "code",
   "execution_count": 158,
   "metadata": {},
   "outputs": [],
   "source": [
    "@mesure\n",
    "def remove_loops(path:Path) -> Path:\n",
    "    # window = int(len(path)*0.10)\n",
    "    nodes = []\n",
    "    intersections = []\n",
    "    for i, seg in enumerate(path):\n",
    "        for j in range(i,len(path)-2):\n",
    "            other_seg = path[(j+2)%len(path)]\n",
    "            if intersection := seg.intersect(other_seg):\n",
    "                if intersection == [(0.0, 1.0)]: continue\n",
    "                nodes.append(seg.point(intersection[0][0]))\n",
    "                intersections.append(((i,(j+2)%len(path)),intersection[0]))\n",
    "                \n",
    "    #order\n",
    "    order = [order[0][1] for order in intersections]\n",
    "    pairs = zip(order,intersections)\n",
    "    intersections = [x[1] for x in sorted(pairs, key=lambda x: x[0])]\n",
    "    original_len = len(intersections)\n",
    "    for elements in intersections[::-1]:\n",
    "        indexes, t_values = elements[0], elements[1]\n",
    "        # print(indexes)\n",
    "        if indexes[1]-indexes[0] == 2:\n",
    "            path[indexes[0]:indexes[1]+1] = [path[indexes[0]].split(t_values[0])[0],path[indexes[1]].split(t_values[1])[1]]\n",
    "        else:\n",
    "            path[indexes[1]:],path[0:indexes[0]+1] = [path[indexes[1]].split(t_values[0])[0]], [path[indexes[0]].split(t_values[0])[1]]\n",
    "\n",
    "    # print(intersections)\n",
    "    # print(nodes)\n",
    "    return nodes"
   ]
  },
  {
   "cell_type": "code",
   "execution_count": 168,
   "metadata": {},
   "outputs": [
    {
     "name": "stdout",
     "output_type": "stream",
     "text": [
      "svgtools.svg\n",
      "'remove_loops': 0.007048 seconds.\n"
     ]
    }
   ],
   "source": [
    "character = char2paths('H')\n",
    "offset_character = []\n",
    "path = Path(*character[0][0::])\n",
    "offset_character.append(\n",
    "    offset_path(path,-100)\n",
    ")\n",
    "# arcs = 4\n",
    "# lines = 4\n",
    "# print((len(path)-lines)*5+lines + arcs)\n",
    "# print(len(offset_character[0]))\n",
    "\n",
    "arcs = Path()\n",
    "# print(path)\n",
    "# print(offset_character[0])\n",
    "for seg in offset_character[0]:\n",
    "    if isinstance(seg,Arc):\n",
    "        arcs.append(seg)\n",
    "\n",
    "\n",
    "# nodes = [seg.start for seg in offset_character[0][:10] if isinstance(seg,QuadraticBezier)]\n",
    "# nodes = [seg.start for seg in offset_character[0][:10]]\n",
    "\n",
    "nodes = remove_loops(offset_character[0])\n",
    "\n",
    "wsvg(character + [path,offset_character[0]],filename='final.svg',nodes=nodes)\n",
    "# wsvg(character,nodes=nodes,filename='final.svg')"
   ]
  },
  {
   "cell_type": "code",
   "execution_count": 13,
   "metadata": {},
   "outputs": [],
   "source": [
    "import matplotlib.pyplot as plt\n",
    "from svgpathtools import Line, QuadraticBezier, CubicBezier, Arc, Path\n",
    "from svgpathtools import svg2paths, svg2paths2, wsvg\n",
    "Path.iscontained = False\n",
    "\n",
    "# @mesure\n",
    "def char2paths(char): # Implement character with multiple path, maybe ussing parsing\n",
    "\n",
    "    plt.figure(figsize=(4, 4))\n",
    "    plt.text(0.5, 0.5, char[0], fontsize=200, ha='center', va='center')\n",
    "    plt.axis('off')\n",
    "    filename='.matplot'\n",
    "    plt.savefig(filename, format='svg')\n",
    "    plt.close()\n",
    "    \n",
    "    paths, _, _ = svg2paths2(filename)\n",
    "    paths = paths[1].continuous_subpaths()\n",
    "    filename='svgtools.svg'\n",
    "    wsvg(paths, filename=filename)\n",
    "    print(filename)\n",
    "    return paths #list\n",
    "\n",
    "# @mesure\n",
    "def set_contained_attr(paths: list) -> None:\n",
    "    for path in paths:\n",
    "        path.iscontained = any(path.is_contained_by(compare) for compare in paths if compare != path)"
   ]
  },
  {
   "cell_type": "code",
   "execution_count": 55,
   "metadata": {},
   "outputs": [
    {
     "data": {
      "text/plain": [
       "{(1, 1): 1}"
      ]
     },
     "execution_count": 55,
     "metadata": {},
     "output_type": "execute_result"
    }
   ],
   "source": [
    "my_dic = {}\n",
    "my_dic[(1,1)] = 1\n",
    "my_dic"
   ]
  },
  {
   "cell_type": "code",
   "execution_count": 118,
   "metadata": {},
   "outputs": [
    {
     "data": {
      "text/plain": [
       "[0, 1, 'a', 'b', 5, 6]"
      ]
     },
     "execution_count": 118,
     "metadata": {},
     "output_type": "execute_result"
    }
   ],
   "source": [
    "a = [0,1,2,3,4,5,6]\n",
    "a[2:4+1] = ['a','b']\n",
    "a"
   ]
  },
  {
   "cell_type": "code",
   "execution_count": 142,
   "metadata": {},
   "outputs": [
    {
     "data": {
      "text/plain": [
       "False"
      ]
     },
     "execution_count": 142,
     "metadata": {},
     "output_type": "execute_result"
    }
   ],
   "source": [
    "-2>0"
   ]
  },
  {
   "cell_type": "code",
   "execution_count": null,
   "metadata": {},
   "outputs": [],
   "source": []
  }
 ],
 "metadata": {
  "kernelspec": {
   "display_name": "venv",
   "language": "python",
   "name": "python3"
  },
  "language_info": {
   "codemirror_mode": {
    "name": "ipython",
    "version": 3
   },
   "file_extension": ".py",
   "mimetype": "text/x-python",
   "name": "python",
   "nbconvert_exporter": "python",
   "pygments_lexer": "ipython3",
   "version": "3.11.5"
  },
  "orig_nbformat": 4
 },
 "nbformat": 4,
 "nbformat_minor": 2
}
