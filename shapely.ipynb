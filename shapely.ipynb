{
 "cells": [
  {
   "cell_type": "code",
   "execution_count": 2,
   "metadata": {},
   "outputs": [
    {
     "name": "stdout",
     "output_type": "stream",
     "text": [
      "[Path(QuadraticBezier(start=(4653+2053j), control=(4381+2053j), end=(4226+1822j)),\n",
      "     QuadraticBezier(start=(4226+1822j), control=(4072+1591j), end=(4072+1178j)),\n",
      "     QuadraticBezier(start=(4072+1178j), control=(4072+772j), end=(4226+539j)),\n",
      "     QuadraticBezier(start=(4226+539j), control=(4381+306j), end=(4653+306j)),\n",
      "     QuadraticBezier(start=(4653+306j), control=(4919+306j), end=(5073+539j)),\n",
      "     QuadraticBezier(start=(5073+539j), control=(5228+772j), end=(5228+1178j)),\n",
      "     QuadraticBezier(start=(5228+1178j), control=(5228+1588j), end=(5073+1820j)),\n",
      "     QuadraticBezier(start=(5073+1820j), control=(4919+2053j), end=(4653+2053j))), Path(QuadraticBezier(start=(4653+2450j), control=(5147+2450j), end=(5437+2106j)),\n",
      "     QuadraticBezier(start=(5437+2106j), control=(5728+1763j), end=(5728+1178j)),\n",
      "     QuadraticBezier(start=(5728+1178j), control=(5728+594j), end=(5436+251j)),\n",
      "     QuadraticBezier(start=(5436+251j), control=(5144-91j), end=(4653-91j)),\n",
      "     QuadraticBezier(start=(4653-91j), control=(4153-91j), end=(3862+251j)),\n",
      "     QuadraticBezier(start=(3862+251j), control=(3572+594j), end=(3572+1178j)),\n",
      "     QuadraticBezier(start=(3572+1178j), control=(3572+1766j), end=(3864+2108j)),\n",
      "     QuadraticBezier(start=(3864+2108j), control=(4156+2450j), end=(4653+2450j))), Path(QuadraticBezier(start=(1428+4353j), control=(1159+4353j), end=(1004+4120j)),\n",
      "     QuadraticBezier(start=(1004+4120j), control=(850+3888j), end=(850+3481j)),\n",
      "     QuadraticBezier(start=(850+3481j), control=(850+3069j), end=(1003+2837j)),\n",
      "     QuadraticBezier(start=(1003+2837j), control=(1156+2606j), end=(1428+2606j)),\n",
      "     QuadraticBezier(start=(1428+2606j), control=(1700+2606j), end=(1854+2837j)),\n",
      "     QuadraticBezier(start=(1854+2837j), control=(2009+3069j), end=(2009+3481j)),\n",
      "     QuadraticBezier(start=(2009+3481j), control=(2009+3884j), end=(1853+4118j)),\n",
      "     QuadraticBezier(start=(1853+4118j), control=(1697+4353j), end=(1428+4353j))), Path(Line(start=(4250+4750j), end=(4750+4750j)),\n",
      "     Line(start=(4750+4750j), end=(1831-91j)),\n",
      "     Line(start=(1831-91j), end=(1331-91j)),\n",
      "     Line(start=(1331-91j), end=(4250+4750j))), Path(QuadraticBezier(start=(1428+4750j), control=(1922+4750j), end=(2215+4408j)),\n",
      "     QuadraticBezier(start=(2215+4408j), control=(2509+4066j), end=(2509+3481j)),\n",
      "     QuadraticBezier(start=(2509+3481j), control=(2509+2891j), end=(2217+2550j)),\n",
      "     QuadraticBezier(start=(2217+2550j), control=(1925+2209j), end=(1428+2209j)),\n",
      "     QuadraticBezier(start=(1428+2209j), control=(931+2209j), end=(642+2551j)),\n",
      "     QuadraticBezier(start=(642+2551j), control=(353+2894j), end=(353+3481j)),\n",
      "     QuadraticBezier(start=(353+3481j), control=(353+4063j), end=(643+4406j)),\n",
      "     QuadraticBezier(start=(643+4406j), control=(934+4750j), end=(1428+4750j)))]\n"
     ]
    }
   ],
   "source": [
    "from svgpathtools import svg2paths\n",
    "from shapely.geometry import Polygon\n",
    "import matplotlib.pyplot as plt\n",
    "\n",
    "# Cargar el archivo SVG y convertirlo en rutas\n",
    "paths, attributes = svg2paths('svgtools.svg')\n",
    "\n",
    "print(paths)\n"
   ]
  },
  {
   "cell_type": "code",
   "execution_count": null,
   "metadata": {},
   "outputs": [],
   "source": []
  }
 ],
 "metadata": {
  "kernelspec": {
   "display_name": "venv",
   "language": "python",
   "name": "python3"
  },
  "language_info": {
   "codemirror_mode": {
    "name": "ipython",
    "version": 3
   },
   "file_extension": ".py",
   "mimetype": "text/x-python",
   "name": "python",
   "nbconvert_exporter": "python",
   "pygments_lexer": "ipython3",
   "version": "3.11.3"
  },
  "orig_nbformat": 4
 },
 "nbformat": 4,
 "nbformat_minor": 2
}
